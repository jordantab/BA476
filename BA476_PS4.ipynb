{
  "nbformat": 4,
  "nbformat_minor": 0,
  "metadata": {
    "colab": {
      "provenance": [],
      "authorship_tag": "ABX9TyNHXeiXcPyFnSAAiXiSldPD",
      "include_colab_link": true
    },
    "kernelspec": {
      "name": "python3",
      "display_name": "Python 3"
    },
    "language_info": {
      "name": "python"
    }
  },
  "cells": [
    {
      "cell_type": "markdown",
      "metadata": {
        "id": "view-in-github",
        "colab_type": "text"
      },
      "source": [
        "<a href=\"https://colab.research.google.com/github/jordantab/BA476/blob/main/BA476_PS4.ipynb\" target=\"_parent\"><img src=\"https://colab.research.google.com/assets/colab-badge.svg\" alt=\"Open In Colab\"/></a>"
      ]
    },
    {
      "cell_type": "code",
      "execution_count": null,
      "metadata": {
        "id": "NrNFLZxPIERm"
      },
      "outputs": [],
      "source": [
        "import pandas as pd\n",
        "import numpy as np\n",
        "import matplotlib.pyplot as plt"
      ]
    },
    {
      "cell_type": "code",
      "source": [
        "from google.colab import drive\n",
        "drive.mount('/content/drive')\n",
        "\n",
        "df = pd.read_csv('/content/drive/My Drive/ColabNotebooks/BA476/housing22.csv')"
      ],
      "metadata": {
        "colab": {
          "base_uri": "https://localhost:8080/"
        },
        "id": "afp10GWoIWR6",
        "outputId": "2c328cfc-bc0f-42e0-e334-2fa38fc898e5"
      },
      "execution_count": null,
      "outputs": [
        {
          "output_type": "stream",
          "name": "stdout",
          "text": [
            "Mounted at /content/drive\n"
          ]
        }
      ]
    },
    {
      "cell_type": "markdown",
      "source": [
        "Removed instances where population is at least 20,000 or total_rooms is at least 35,000"
      ],
      "metadata": {
        "id": "OQ1RMCSYJTQ6"
      }
    },
    {
      "cell_type": "code",
      "source": [
        "df_new = df[ (df['population'] < 20000) & (df['total_rooms'] < 35000) ]"
      ],
      "metadata": {
        "id": "VNB2COiXJcO0"
      },
      "execution_count": null,
      "outputs": []
    },
    {
      "cell_type": "markdown",
      "source": [
        "Baseline amount of missing values in total_bedrooms column"
      ],
      "metadata": {
        "id": "21FJo8x9Jf_P"
      }
    },
    {
      "cell_type": "code",
      "source": [
        "df['total_bedrooms'].isna().sum()"
      ],
      "metadata": {
        "colab": {
          "base_uri": "https://localhost:8080/"
        },
        "id": "z7aTwhvYLUMr",
        "outputId": "d30b6fc6-6283-4180-93d6-b3ce5b823f93"
      },
      "execution_count": null,
      "outputs": [
        {
          "output_type": "execute_result",
          "data": {
            "text/plain": [
              "81"
            ]
          },
          "metadata": {},
          "execution_count": 5
        }
      ]
    },
    {
      "cell_type": "markdown",
      "source": [
        "Replace missing values in the total_bedrooms column with the column median"
      ],
      "metadata": {
        "id": "pcn1kwRkJnAx"
      }
    },
    {
      "cell_type": "code",
      "source": [
        "from sklearn.impute import SimpleImputer\n",
        "simple_imputer = SimpleImputer(missing_values=np.nan, strategy='mean')\n",
        "df_imputed = pd.DataFrame(simple_imputer.fit_transform(df))\n",
        "df_imputed.columns = df.columns\n"
      ],
      "metadata": {
        "id": "jb7WFk0dN3YS"
      },
      "execution_count": null,
      "outputs": []
    },
    {
      "cell_type": "markdown",
      "source": [
        "Check to make sure all instances are imputed"
      ],
      "metadata": {
        "id": "sOxOQjEEJwIf"
      }
    },
    {
      "cell_type": "code",
      "source": [
        "df_imputed['total_bedrooms'].isna().sum()"
      ],
      "metadata": {
        "colab": {
          "base_uri": "https://localhost:8080/"
        },
        "id": "gY19lqgoHuU_",
        "outputId": "7ecf3ad1-e66a-41fd-8419-43a6b2046076"
      },
      "execution_count": null,
      "outputs": [
        {
          "output_type": "execute_result",
          "data": {
            "text/plain": [
              "0"
            ]
          },
          "metadata": {},
          "execution_count": 8
        }
      ]
    },
    {
      "cell_type": "markdown",
      "source": [
        "Split the data into train and test. First 5,000 for training and the remainder for testing"
      ],
      "metadata": {
        "id": "uDDRXqJaJ1Z2"
      }
    },
    {
      "cell_type": "code",
      "source": [
        "train = df_imputed[:5000]\n",
        "test = df_imputed[5000:]"
      ],
      "metadata": {
        "id": "TB3n1dBtPWoO"
      },
      "execution_count": null,
      "outputs": []
    },
    {
      "cell_type": "markdown",
      "source": [
        "Split the data into predictors and outcome"
      ],
      "metadata": {
        "id": "fB0DqXULK271"
      }
    },
    {
      "cell_type": "code",
      "source": [
        "X_train = train.loc[:, train.columns != 'median_house_value']\n",
        "X_test = test.loc[:, test.columns != 'median_house_value']\n",
        "y_train = train['median_house_value']\n",
        "y_test = test['median_house_value']"
      ],
      "metadata": {
        "id": "IcjXPeFoK7kP"
      },
      "execution_count": null,
      "outputs": []
    },
    {
      "cell_type": "markdown",
      "source": [
        "Standardize the predictors since we are using Lasso"
      ],
      "metadata": {
        "id": "zjz0KJvgKWau"
      }
    },
    {
      "cell_type": "code",
      "source": [
        "from sklearn.preprocessing import StandardScaler\n",
        "\n",
        "scaler = StandardScaler()\n",
        "X_std_train = scaler.fit_transform(X_train)\n",
        "X_std_test = scaler.transform(X_test)"
      ],
      "metadata": {
        "id": "5akthh-AKdZ9"
      },
      "execution_count": null,
      "outputs": []
    },
    {
      "cell_type": "markdown",
      "source": [
        "Train Lasso"
      ],
      "metadata": {
        "id": "4LZwmm9ARGG8"
      }
    },
    {
      "cell_type": "code",
      "source": [
        "from sklearn.linear_model import Lasso\n",
        "\n",
        "train_predictions = []\n",
        "test_predictions = []\n",
        "\n",
        "model_coeffs = []\n",
        "\n",
        "for num in np.logspace(3,5,100):\n",
        "  # initialize and train lasso\n",
        "  lasso = Lasso(alpha=num)\n",
        "  lasso.fit(X_std_train, y_train)\n",
        "\n",
        "  # store coefficients of the model\n",
        "  model_coeffs.append(lasso.coef_)\n",
        "\n",
        "  # predict on training data\n",
        "  yhat_train = lasso.predict(X_std_train)\n",
        "  train_predictions.append(yhat_train)\n",
        "\n",
        "  # predict on testing data\n",
        "  yhat_test = lasso.predict(X_std_test)\n",
        "  test_predictions.append(yhat_test)\n"
      ],
      "metadata": {
        "id": "EOi479xrRH0Y"
      },
      "execution_count": null,
      "outputs": []
    },
    {
      "cell_type": "markdown",
      "source": [
        "Compute MSE"
      ],
      "metadata": {
        "id": "fWX_rq1yZc0y"
      }
    },
    {
      "cell_type": "code",
      "source": [
        "from sklearn.metrics import mean_squared_error\n",
        "\n",
        "train_mse = []\n",
        "test_mse = []\n",
        "\n",
        "for i in range(len(train_predictions)):\n",
        "  # calcalate train mse and store them\n",
        "  mse_train = mean_squared_error(y_train,train_predictions[i])\n",
        "  train_mse.append(mse_train)\n",
        "\n",
        "  # calculate test mse and store them\n",
        "  mse_test = mean_squared_error(y_test, test_predictions[i])\n",
        "  test_mse.append(mse_test)\n",
        "\n"
      ],
      "metadata": {
        "id": "r2vZToN4WnQS"
      },
      "execution_count": null,
      "outputs": []
    },
    {
      "cell_type": "markdown",
      "source": [
        "Get the MSE and the lambda of the best performing model"
      ],
      "metadata": {
        "id": "Jj_vA8d4xsd7"
      }
    },
    {
      "cell_type": "code",
      "source": [
        "min_test_mse = min(test_mse)\n",
        "index = test_mse.index(min_test_mse)\n",
        "lambdas = np.logspace(3,5,100)\n",
        "best_alpha = lambdas[index]"
      ],
      "metadata": {
        "id": "-HAm6rpAv_-c"
      },
      "execution_count": null,
      "outputs": []
    },
    {
      "cell_type": "markdown",
      "source": [
        "Plot test and train mse as lambda changes"
      ],
      "metadata": {
        "id": "OS7EV0p6pxSL"
      }
    },
    {
      "cell_type": "code",
      "source": [
        "fig,ax = plt.subplots()\n",
        "ax.plot(np.logspace(3,5,100),test_mse)\n",
        "ax.plot(np.logspace(3,5,100),train_mse)\n",
        "plt.xlabel(\"lambda\")\n",
        "ax.set_xscale('log')\n",
        "plt.ylabel(\"MSE\")\n",
        "plt.title(\"Test and Train MSE as Lambda Changes\")\n",
        "plt.plot(best_alpha, min_test_mse, marker=\"o\", markeredgecolor=\"black\", markerfacecolor=\"black\")"
      ],
      "metadata": {
        "colab": {
          "base_uri": "https://localhost:8080/",
          "height": 315
        },
        "id": "sDqLBVz8dPyN",
        "outputId": "4ede0cfd-6ec3-45a1-df6e-91e2684a2dba"
      },
      "execution_count": null,
      "outputs": [
        {
          "output_type": "execute_result",
          "data": {
            "text/plain": [
              "[<matplotlib.lines.Line2D at 0x7f5a2c254b90>]"
            ]
          },
          "metadata": {},
          "execution_count": 140
        },
        {
          "output_type": "display_data",
          "data": {
            "text/plain": [
              "<Figure size 432x288 with 1 Axes>"
            ],
            "image/png": "[encoded data removed]"
          },
          "metadata": {
            "needs_background": "light"
          }
        }
      ]
    },
    {
      "cell_type": "markdown",
      "source": [
        "Plot coefficients as lambda changes"
      ],
      "metadata": {
        "id": "jSh3FHY6p3B2"
      }
    },
    {
      "cell_type": "code",
      "source": [
        "fig,ax = plt.subplots(figsize=(10,10))\n",
        "ax.plot(np.logspace(3,5,100),model_coeffs)\n",
        "plt.xlabel(\"lambda\")\n",
        "ax.set_xscale('log')\n",
        "plt.ylim([-75000, 75000])\n",
        "plt.ylabel(\"Coefficient\")\n",
        "plt.title(\"Coefficients as Lambda Changes\")\n",
        "plt.legend(X_train.columns, prop={'size' : 8})"
      ],
      "metadata": {
        "colab": {
          "base_uri": "https://localhost:8080/",
          "height": 641
        },
        "id": "TXIdRlz_p2vI",
        "outputId": "c7e1f15d-476c-430c-89ea-7585d804fd8a"
      },
      "execution_count": null,
      "outputs": [
        {
          "output_type": "execute_result",
          "data": {
            "text/plain": [
              "<matplotlib.legend.Legend at 0x7f5a2b7961d0>"
            ]
          },
          "metadata": {},
          "execution_count": 153
        },
        {
          "output_type": "display_data",
          "data": {
            "text/plain": [
              "<Figure size 720x720 with 1 Axes>"
            ],
            "image/png": "[encoded data removed]"
          },
          "metadata": {
            "needs_background": "light"
          }
        }
      ]
    },
    {
      "cell_type": "markdown",
      "source": [
        "Predictors with non-zero coefficients for the best model"
      ],
      "metadata": {
        "id": "9klBUueYywhw"
      }
    },
    {
      "cell_type": "code",
      "source": [
        "indices = np.nonzero(model_coeffs[index])"
      ],
      "metadata": {
        "id": "QTh7tVcgywEp"
      },
      "execution_count": null,
      "outputs": []
    },
    {
      "cell_type": "code",
      "source": [
        "predictors = []\n",
        "\n",
        "for i in range(len(indices[0])):\n",
        "  index = indices[0][i]\n",
        "  predictors.append(X_train.columns[index])"
      ],
      "metadata": {
        "id": "rFUT0eOwzmKX"
      },
      "execution_count": null,
      "outputs": []
    },
    {
      "cell_type": "code",
      "source": [
        "predictors"
      ],
      "metadata": {
        "colab": {
          "base_uri": "https://localhost:8080/"
        },
        "id": "WTU5vtDQ1fpt",
        "outputId": "890bceb2-9bdb-44e8-f73f-da96267697ae"
      },
      "execution_count": null,
      "outputs": [
        {
          "output_type": "execute_result",
          "data": {
            "text/plain": [
              "['total_bedrooms', 'median_income', '<1H OCEAN', 'INLAND', 'NEAR OCEAN']"
            ]
          },
          "metadata": {},
          "execution_count": 143
        }
      ]
    }
  ]
}