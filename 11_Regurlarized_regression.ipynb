{
  "nbformat": 4,
  "nbformat_minor": 0,
  "metadata": {
    "colab": {
      "provenance": [],
      "include_colab_link": true
    },
    "kernelspec": {
      "name": "python3",
      "display_name": "Python 3"
    }
  },
  "cells": [
    {
      "cell_type": "markdown",
      "metadata": {
        "id": "view-in-github",
        "colab_type": "text"
      },
      "source": [
        "<a href=\"https://colab.research.google.com/github/jordantab/BA476/blob/main/11_Regurlarized_regression.ipynb\" target=\"_parent\"><img src=\"https://colab.research.google.com/assets/colab-badge.svg\" alt=\"Open In Colab\"/></a>"
      ]
    },
    {
      "cell_type": "markdown",
      "metadata": {
        "id": "kFzqx2Vcc3sO"
      },
      "source": [
        "# <!--BOOK_INFORMATION-->\n",
        "\n",
        "This notebook is based on and adapted from the following sources:\n",
        "* [Python Data Science Handbook](https://github.com/jakevdp/PythonDataScienceHandbook) by Jake VanderPlas, licensed under the [CC-BY-NC-ND](https://creativecommons.org/licenses/by-nc-nd/3.0/us/legalcode) and [MIT](https://opensource.org/licenses/MIT) licenses;\n",
        "* [Google Colab tutorials](https://colab.research.google.com/notebooks/mlcc/intro_to_pandas.ipynb).\n"
      ]
    },
    {
      "cell_type": "markdown",
      "metadata": {
        "id": "ELUuKyiq5bLT"
      },
      "source": [
        "# Regularized regression"
      ]
    },
    {
      "cell_type": "markdown",
      "metadata": {
        "deletable": true,
        "editable": true,
        "id": "JKmhrHui5bLU"
      },
      "source": [
        "Linear regression models are a good starting point for regression tasks.\n",
        "Such models are popular because they can be fit very quickly, and are very interpretable.\n",
        "You are probably familiar with the simplest form of a linear regression model (i.e., fitting a straight line to data) but such models can be extended to model more complicated data behavior.\n",
        "\n",
        "We begin with the standard imports:"
      ]
    },
    {
      "cell_type": "code",
      "metadata": {
        "deletable": true,
        "editable": true,
        "id": "ggo--j6j5bLU"
      },
      "source": [
        "%matplotlib inline\n",
        "import matplotlib.pyplot as plt\n",
        "import seaborn as sns; sns.set()\n",
        "import numpy as np"
      ],
      "execution_count": null,
      "outputs": []
    },
    {
      "cell_type": "markdown",
      "metadata": {
        "deletable": true,
        "editable": true,
        "id": "AQUsSOwT5bLX"
      },
      "source": [
        "## Simple Linear Regression\n",
        "\n",
        "We will start with the most familiar linear regression, a straight-line fit to data.\n",
        "A straight-line fit is a model of the form\n",
        "$$\n",
        "y = ax + b\n",
        "$$\n",
        "where $a$ is commonly known as the *slope*, and $b$ is commonly known as the *intercept*.\n",
        "\n",
        "Consider the following data, which is scattered about a line with a slope of 2 and an intercept of -5:"
      ]
    },
    {
      "cell_type": "code",
      "metadata": {
        "deletable": true,
        "editable": true,
        "id": "VwHhl-Ye5bLY",
        "colab": {
          "base_uri": "https://localhost:8080/",
          "height": 268
        },
        "outputId": "bf56e90b-a94a-4ba9-a23d-202cde0da092"
      },
      "source": [
        "rng = np.random.RandomState(1)\n",
        "x = 10 * rng.rand(50,1)\n",
        "y = 2 * x - 5 + rng.randn(50,1)\n",
        "plt.scatter(x, y);"
      ],
      "execution_count": null,
      "outputs": [
        {
          "output_type": "display_data",
          "data": {
            "text/plain": [
              "<Figure size 432x288 with 1 Axes>"
            ],
            "image/png": "[encoded data removed]"
          },
          "metadata": {}
        }
      ]
    },
    {
      "cell_type": "markdown",
      "metadata": {
        "deletable": true,
        "editable": true,
        "id": "lrG9yVnO5bLa"
      },
      "source": [
        "We can use Scikit-Learn's ``LinearRegression`` estimator to fit this data and construct the best-fit line:"
      ]
    },
    {
      "cell_type": "code",
      "metadata": {
        "deletable": true,
        "editable": true,
        "id": "zIXQ2H9Z5bLb",
        "colab": {
          "base_uri": "https://localhost:8080/",
          "height": 268
        },
        "outputId": "d03f09d3-83d7-4f70-8899-15b65998e54e"
      },
      "source": [
        "from sklearn.linear_model import LinearRegression\n",
        "model = LinearRegression(fit_intercept=True)\n",
        "\n",
        "model.fit(x, y)\n",
        "\n",
        "xfit = np.linspace(0, 10, 1000).reshape(1000,1) # or add dimension  x[:,np.newaxis]\n",
        "yfit = model.predict(xfit)\n",
        "\n",
        "plt.scatter(x, y)\n",
        "plt.plot(xfit, yfit);"
      ],
      "execution_count": null,
      "outputs": [
        {
          "output_type": "display_data",
          "data": {
            "text/plain": [
              "<Figure size 432x288 with 1 Axes>"
            ],
            "image/png": "[encoded data removed]"
          },
          "metadata": {}
        }
      ]
    },
    {
      "cell_type": "markdown",
      "metadata": {
        "deletable": true,
        "editable": true,
        "id": "Zx7iG8PS5bLd"
      },
      "source": [
        "The slope and intercept of the data are contained in the model's fit parameters, which in Scikit-Learn are always marked by a trailing underscore.\n",
        "Here the relevant parameters are ``coef_`` and ``intercept_``:"
      ]
    },
    {
      "cell_type": "code",
      "metadata": {
        "deletable": true,
        "editable": true,
        "id": "w4uPy7yl5bLd",
        "colab": {
          "base_uri": "https://localhost:8080/"
        },
        "outputId": "34d781c2-ee0a-425b-fd98-51cf2c6bad2f"
      },
      "source": [
        "print(\"Model slope:    \", model.coef_[0])\n",
        "print(\"Model intercept:\", model.intercept_)"
      ],
      "execution_count": null,
      "outputs": [
        {
          "output_type": "stream",
          "name": "stdout",
          "text": [
            "Model slope:     [2.02720881]\n",
            "Model intercept: [-4.99857709]\n"
          ]
        }
      ]
    },
    {
      "cell_type": "markdown",
      "metadata": {
        "deletable": true,
        "editable": true,
        "id": "7oeN9hvN5bLf"
      },
      "source": [
        "We see that the results are very close to the inputs, as we might hope."
      ]
    },
    {
      "cell_type": "markdown",
      "metadata": {
        "deletable": true,
        "editable": true,
        "id": "OdUyZv155bLg"
      },
      "source": [
        "The ``LinearRegression`` estimator is much more capable than this, however—in addition to simple straight-line fits, it can also handle multidimensional linear models of the form\n",
        "$$\n",
        "y = a_0 + a_1 x_1 + a_2 x_2 + \\cdots\n",
        "$$\n",
        "where there are multiple $x$ values.\n",
        "Geometrically, this is akin to fitting a plane to points in three dimensions, or fitting a hyper-plane to points in higher dimensions.\n",
        "\n",
        "The multidimensional nature of such regressions makes them more difficult to visualize, but we can see one of these fits in action by building some example data, using NumPy's matrix multiplication operator:"
      ]
    },
    {
      "cell_type": "code",
      "metadata": {
        "deletable": true,
        "editable": true,
        "id": "bcVQ40py5bLg",
        "colab": {
          "base_uri": "https://localhost:8080/"
        },
        "outputId": "c240f5e1-5eba-450a-c102-bc37f5227371"
      },
      "source": [
        "rng = np.random.RandomState(1)\n",
        "X = 10 * rng.rand(100, 3)\n",
        "noise = 1* rng.rand(100,)\n",
        "y = 0.5 + np.dot(X, [1.5, -2., 1.]) + noise\n",
        "\n",
        "model.fit(X, y)\n",
        "print(\"Intercept: \", model.intercept_)\n",
        "print(\"Coeff: \", model.coef_)"
      ],
      "execution_count": null,
      "outputs": [
        {
          "output_type": "stream",
          "name": "stdout",
          "text": [
            "Intercept:  1.1056617075264237\n",
            "Coeff:  [ 1.48402902 -1.99570189  0.99111632]\n"
          ]
        }
      ]
    },
    {
      "cell_type": "markdown",
      "metadata": {
        "deletable": true,
        "editable": true,
        "id": "CFuHr3NW5bLk"
      },
      "source": [
        "Here the $y$ data is constructed from three random $x$ values, and the linear regression recovers the coefficients used to construct the data.\n",
        "\n",
        "We can use some of the built-in metrics to evaluate the mean squared error of the models, or do it manually."
      ]
    },
    {
      "cell_type": "code",
      "metadata": {
        "id": "aU5vm9ucOFmv",
        "colab": {
          "base_uri": "https://localhost:8080/"
        },
        "outputId": "40877f9f-7bd0-459c-8257-51ad87cd875d"
      },
      "source": [
        "from sklearn.metrics import mean_squared_error\n",
        "yhat = model.predict(X)\n",
        "\n",
        "auto_mse = mean_squared_error(y, yhat)\n",
        "manual_mse = np.mean( (y - yhat) ** 2)\n",
        "\n",
        "print (auto_mse, manual_mse)"
      ],
      "execution_count": null,
      "outputs": [
        {
          "output_type": "stream",
          "name": "stdout",
          "text": [
            "0.07558449537501405 0.07558449537501405\n"
          ]
        }
      ]
    },
    {
      "cell_type": "markdown",
      "metadata": {
        "id": "cj5Z3qwROFOj"
      },
      "source": [
        "In this way, we can use the single ``LinearRegression`` estimator to fit lines, planes, or hyperplanes to our data.\n",
        "It still appears that this approach would be limited to strictly linear relationships between variables, but it turns out we can relax this as well."
      ]
    },
    {
      "cell_type": "markdown",
      "metadata": {
        "deletable": true,
        "editable": true,
        "id": "IjOBVCy25bLl"
      },
      "source": [
        "## Basis Function Regression\n",
        "\n",
        "One trick you can use to adapt linear regression to nonlinear relationships between variables is to transform the data according to *basis functions*.\n",
        "One version of this is the ``PolynomialRegression`` pipeline.\n",
        "The idea is to take our multidimensional linear model:\n",
        "$$\n",
        "y = a_0 + a_1 x_1 + a_2 x_2 + a_3 x_3 + \\cdots\n",
        "$$\n",
        "and build the $x_1, x_2, x_3,$ and so on, from our single-dimensional input $x$.\n",
        "That is, we let $x_n = f_n(x)$, where $f_n()$ is some function that transforms our data.\n",
        "\n",
        "For example, if $f_n(x) = x^n$, our model becomes a polynomial regression:\n",
        "$$\n",
        "y = a_0 + a_1 x + a_2 x^2 + a_3 x^3 + \\cdots\n",
        "$$\n",
        "Notice that this is *still a linear model*—the linearity refers to the fact that the coefficients $a_n$ never multiply or divide each other.\n",
        "What we have effectively done is taken our one-dimensional $x$ values and projected them into a higher dimension, so that a linear fit can fit more complicated relationships between $x$ and $y$."
      ]
    },
    {
      "cell_type": "markdown",
      "metadata": {
        "deletable": true,
        "editable": true,
        "id": "l8gbdZUd5bLl"
      },
      "source": [
        "### Polynomial basis functions\n",
        "\n",
        "This polynomial basis function is useful enough that it is built into Scikit-Learn, using the ``PolynomialFeatures`` transformer:"
      ]
    },
    {
      "cell_type": "code",
      "metadata": {
        "deletable": true,
        "editable": true,
        "id": "aL60Fn7t5bLl",
        "colab": {
          "base_uri": "https://localhost:8080/"
        },
        "outputId": "9ca6dd45-5385-46ad-a925-e280453a5ecf"
      },
      "source": [
        "from sklearn.preprocessing import PolynomialFeatures\n",
        "x = np.array([2, 3, 4])\n",
        "x = x[:, None] # another alternative to using np.newaxis\n",
        "y = np.sin(x)\n",
        "poly = PolynomialFeatures(3, include_bias=False)\n",
        "poly.fit_transform(x)"
      ],
      "execution_count": null,
      "outputs": [
        {
          "output_type": "execute_result",
          "data": {
            "text/plain": [
              "array([[ 2.,  4.,  8.],\n",
              "       [ 3.,  9., 27.],\n",
              "       [ 4., 16., 64.]])"
            ]
          },
          "metadata": {},
          "execution_count": 7
        }
      ]
    },
    {
      "cell_type": "markdown",
      "source": [
        "Or on multiple columns at once. Notice that you get all interaction terms up to degree 3."
      ],
      "metadata": {
        "id": "CUH3I7J3F1P-"
      }
    },
    {
      "cell_type": "code",
      "source": [
        "x = np.array([[2,1], [2,2],[2,3]])\n",
        "print('Before\\n', x, '\\nAfter')\n",
        "y = np.sin(x)\n",
        "poly = PolynomialFeatures(3, include_bias=False)\n",
        "poly.fit_transform(x)"
      ],
      "metadata": {
        "colab": {
          "base_uri": "https://localhost:8080/"
        },
        "id": "u7x_MwIm77lc",
        "outputId": "90a40814-0bf0-404f-de5d-914343cfc9ac"
      },
      "execution_count": null,
      "outputs": [
        {
          "output_type": "stream",
          "name": "stdout",
          "text": [
            "Before\n",
            " [[2 1]\n",
            " [2 2]\n",
            " [2 3]] \n",
            "After\n"
          ]
        },
        {
          "output_type": "execute_result",
          "data": {
            "text/plain": [
              "array([[ 2.,  1.,  4.,  2.,  1.,  8.,  4.,  2.,  1.],\n",
              "       [ 2.,  2.,  4.,  4.,  4.,  8.,  8.,  8.,  8.],\n",
              "       [ 2.,  3.,  4.,  6.,  9.,  8., 12., 18., 27.]])"
            ]
          },
          "metadata": {},
          "execution_count": 20
        }
      ]
    },
    {
      "cell_type": "markdown",
      "metadata": {
        "deletable": true,
        "editable": true,
        "id": "778SoLy65bLp"
      },
      "source": [
        "##Pipelines\n",
        "We see here that the transformer has converted our one-dimensional array into a three-dimensional array by taking the exponent of each value.\n",
        "This new, higher-dimensional data representation can then be plugged into a linear regression.\n",
        "\n",
        "The cleanest way to accomplish this is to use a pipeline.\n",
        "Let's add degree 3 polynomial features to our model and standardize the feature before fitting a linear regression:"
      ]
    },
    {
      "cell_type": "code",
      "metadata": {
        "deletable": true,
        "editable": true,
        "id": "VboO8YAk5bLp",
        "colab": {
          "base_uri": "https://localhost:8080/"
        },
        "outputId": "a8293d47-1b91-4559-efca-d1670180f59b"
      },
      "source": [
        "from sklearn.pipeline import make_pipeline\n",
        "from sklearn.preprocessing import StandardScaler\n",
        "\n",
        "pipe = make_pipeline(PolynomialFeatures(3, include_bias=False),\\\n",
        "                     StandardScaler(), \\\n",
        "                     LinearRegression())\n",
        "pipe.fit(x,y)"
      ],
      "execution_count": null,
      "outputs": [
        {
          "output_type": "execute_result",
          "data": {
            "text/plain": [
              "Pipeline(steps=[('polynomialfeatures',\n",
              "                 PolynomialFeatures(degree=3, include_bias=False)),\n",
              "                ('standardscaler', StandardScaler()),\n",
              "                ('linearregression', LinearRegression())])"
            ]
          },
          "metadata": {},
          "execution_count": 9
        }
      ]
    },
    {
      "cell_type": "markdown",
      "source": [
        "Calling `fit` on a pipeline has the same effect as calling `fit` and `transform` on the first transformer in the pipe, taking the output and calling `fit` and `transform` on the second transformer, etc., until finally calling `fit` on the the estimator (which should always be the final step in the pipeline). It may be useful to visualize what happens to our original x as it passes through the pipeline:"
      ],
      "metadata": {
        "id": "ZPWBfY_iZ6As"
      }
    },
    {
      "cell_type": "code",
      "source": [
        "print('Original data: \\n', x)\n",
        "x_intermediate = x\n",
        "\n",
        "# for each of the transformations, print the data\n",
        "for step in pipe.steps[:-1]: # the last step in the pipeline is an estimator\n",
        "    x_intermediate = step[1].fit_transform(x_intermediate)\n",
        "    print('After',  step[0], '\\n',    x_intermediate.round(2))\n",
        "\n",
        "print('Feature names', pipe[:-1].get_feature_names_out() )"
      ],
      "metadata": {
        "id": "TTwaSVqsXGEM",
        "colab": {
          "base_uri": "https://localhost:8080/"
        },
        "outputId": "19a825c7-c708-4bca-f2ec-9fdb319d42c8"
      },
      "execution_count": null,
      "outputs": [
        {
          "output_type": "stream",
          "name": "stdout",
          "text": [
            "Original data: \n",
            " [[2 1]\n",
            " [2 2]\n",
            " [2 3]]\n",
            "After polynomialfeatures \n",
            " [[ 2.  1.  4.  2.  1.  8.  4.  2.  1.]\n",
            " [ 2.  2.  4.  4.  4.  8.  8.  8.  8.]\n",
            " [ 2.  3.  4.  6.  9.  8. 12. 18. 27.]]\n",
            "After standardscaler \n",
            " [[ 0.   -1.22  0.   -1.22 -1.11  0.   -1.22 -1.11 -1.  ]\n",
            " [ 0.    0.    0.    0.   -0.2   0.    0.   -0.2  -0.36]\n",
            " [ 0.    1.22  0.    1.22  1.31  0.    1.22  1.31  1.37]]\n",
            "Feature names ['x0' 'x1' 'x0^2' 'x0 x1' 'x1^2' 'x0^3' 'x0^2 x1' 'x0 x1^2' 'x1^3']\n"
          ]
        }
      ]
    },
    {
      "cell_type": "markdown",
      "metadata": {
        "deletable": true,
        "editable": true,
        "id": "B8WV5hvC5bLr"
      },
      "source": [
        "Now let's use a pipeline to automate adding polynomial so that we can  (hopefully) use the linear model to fit much more complicated relationships between $x$ and $y$.\n",
        "For example, here is a sine wave with noise:"
      ]
    },
    {
      "cell_type": "code",
      "source": [
        "from sklearn.pipeline import make_pipeline\n",
        "from sklearn.preprocessing import StandardScaler\n",
        "\n",
        "poly_pipe = make_pipeline(PolynomialFeatures(21, include_bias=False),\\\n",
        "                     StandardScaler(), \\\n",
        "                     LinearRegression()) #compare to degree 5"
      ],
      "metadata": {
        "id": "NwWs5YMKZMHm"
      },
      "execution_count": null,
      "outputs": []
    },
    {
      "cell_type": "code",
      "metadata": {
        "deletable": true,
        "editable": true,
        "id": "lWPQGgbE5bLr",
        "colab": {
          "base_uri": "https://localhost:8080/",
          "height": 289
        },
        "outputId": "df6ecd11-fac0-46d1-e24c-776830b82cc6"
      },
      "source": [
        "# generate data\n",
        "rng = np.random.RandomState(1)\n",
        "noise = 0.2  #0.1, 0.5\n",
        "x = 10 * rng.rand(50,1)\n",
        "y = np.sin(x) + noise * rng.randn(50,1)\n",
        "\n",
        "# add polynomial features, fit model and predict\n",
        "poly_pipe.fit(x , y)\n",
        "yfit = poly_pipe.predict(xfit)\n",
        "\n",
        "# visualize results\n",
        "plt.scatter(x, y)\n",
        "plt.plot(xfit, np.sin(xfit), c='orange')\n",
        "plt.plot(xfit, yfit);\n",
        "plt.ylim(-1.5,1.5)\n",
        "print('MSE on X: ', mean_squared_error( poly_pipe.predict(x), y ) )"
      ],
      "execution_count": null,
      "outputs": [
        {
          "output_type": "stream",
          "name": "stdout",
          "text": [
            "MSE on X:  0.012249933877286859\n"
          ]
        },
        {
          "output_type": "display_data",
          "data": {
            "text/plain": [
              "<Figure size 432x288 with 1 Axes>"
            ],
            "image/png": "[encoded data removed]"
          },
          "metadata": {}
        }
      ]
    },
    {
      "cell_type": "code",
      "source": [
        "poly_pipe[-1].coef_"
      ],
      "metadata": {
        "id": "X5Ya1My-Bxg1",
        "colab": {
          "base_uri": "https://localhost:8080/"
        },
        "outputId": "4cb8045f-8070-4d2f-aa4c-924548a628ee"
      },
      "execution_count": null,
      "outputs": [
        {
          "output_type": "execute_result",
          "data": {
            "text/plain": [
              "array([[-3.38418343e+01,  3.79732747e+03, -1.44032591e+05,\n",
              "         3.09600651e+06, -4.35045369e+07,  4.26486159e+08,\n",
              "        -3.02619747e+09,  1.59039891e+10, -6.27725955e+10,\n",
              "         1.87129140e+11, -4.19445340e+11,  6.91967402e+11,\n",
              "        -7.89816605e+11,  4.96010613e+11,  1.23903485e+11,\n",
              "        -6.74034226e+11,  8.01813100e+11, -5.52464598e+11,\n",
              "         2.36962364e+11, -5.91135934e+10,  6.59712582e+09]])"
            ]
          },
          "metadata": {},
          "execution_count": 13
        }
      ]
    },
    {
      "cell_type": "markdown",
      "metadata": {
        "deletable": true,
        "editable": true,
        "id": "XumfgyG15bLu"
      },
      "source": [
        "Our linear model, through the use of 7th-order polynomial basis functions, can provide an excellent fit to this non-linear data! However, if we made the model too flexible, say by using 31-st order basis functions, it may do significantly worse."
      ]
    },
    {
      "cell_type": "markdown",
      "metadata": {
        "deletable": true,
        "editable": true,
        "id": "2lH4CjZr5bL0"
      },
      "source": [
        "## Regularization\n",
        "\n",
        "The introduction of basis functions into our linear regression makes the model much more flexible, but it also can very quickly lead to over-fitting.\n",
        "For example, if we choose too many polynomial basis functions, we end up with results that don't look so good (try with degree 21):"
      ]
    },
    {
      "cell_type": "code",
      "source": [
        "poly_model21 = make_pipeline(PolynomialFeatures(21, include_bias=False),\n",
        "                              StandardScaler(with_mean=False),\n",
        "                               LinearRegression())\n",
        "poly_model21.fit(x, y)\n",
        "\n",
        "plt.scatter(x, y)\n",
        "plt.plot(xfit, np.sin(xfit), c='orange')\n",
        "plt.plot(xfit, poly_model21.predict(xfit))\n",
        "\n",
        "plt.xlim(0, 10)\n",
        "plt.ylim(-1.5, 1.5)\n",
        "plt.show();\n",
        "print('MSE on X: ', mean_squared_error( poly_model21.predict(x), y ) )\n",
        "print(\"Coefficient norm:\", np.linalg.norm(poly_model21['linearregression'].coef_))\n",
        "print(poly_model21[:-1].get_feature_names_out())"
      ],
      "metadata": {
        "id": "iJBwVWYYwUoc",
        "colab": {
          "base_uri": "https://localhost:8080/",
          "height": 359
        },
        "outputId": "1451f776-53e5-4ce8-ee69-40afdb94c199"
      },
      "execution_count": null,
      "outputs": [
        {
          "output_type": "display_data",
          "data": {
            "text/plain": [
              "<Figure size 432x288 with 1 Axes>"
            ],
            "image/png": "[encoded data removed]"
          },
          "metadata": {}
        },
        {
          "output_type": "stream",
          "name": "stdout",
          "text": [
            "MSE on X:  0.012249813844324409\n",
            "Coefficient norm: 1740845744605.7253\n",
            "['x0' 'x0^2' 'x0^3' 'x0^4' 'x0^5' 'x0^6' 'x0^7' 'x0^8' 'x0^9' 'x0^10'\n",
            " 'x0^11' 'x0^12' 'x0^13' 'x0^14' 'x0^15' 'x0^16' 'x0^17' 'x0^18' 'x0^19'\n",
            " 'x0^20' 'x0^21']\n"
          ]
        }
      ]
    },
    {
      "cell_type": "markdown",
      "metadata": {
        "deletable": true,
        "editable": true,
        "id": "tFzhQL0a5bL4"
      },
      "source": [
        "The model has far too much flexibility and goes to extreme values between locations where it is constrained by data."
      ]
    },
    {
      "cell_type": "markdown",
      "metadata": {
        "deletable": true,
        "editable": true,
        "id": "hfdGpFQb5bL9"
      },
      "source": [
        "### Ridge regression ($L_2$ Regularization)\n",
        "\n",
        "Perhaps the most common form of regularization is known as *ridge regression* or $L_2$ *regularization*, sometimes also called *Tikhonov regularization*.\n",
        "This proceeds by penalizing the sum of squares (2-norms) of the model coefficients; in this case, the penalty on the model fit would be\n",
        "$$\n",
        "P = \\alpha\\sum_{j=1}^p \\beta_j^2\n",
        "$$\n",
        "where $\\alpha$ is a free parameter that controls the strength of the penalty.\n",
        "This type of penalized model is built into Scikit-Learn with the ``Ridge`` estimator:"
      ]
    },
    {
      "cell_type": "code",
      "source": [
        "from sklearn.linear_model import Ridge"
      ],
      "metadata": {
        "id": "NjYcmlNfxDP-"
      },
      "execution_count": null,
      "outputs": []
    },
    {
      "cell_type": "code",
      "metadata": {
        "deletable": true,
        "editable": true,
        "id": "-gMy4wGjUl-t",
        "colab": {
          "base_uri": "https://localhost:8080/",
          "height": 319
        },
        "outputId": "291d1d8c-e5a5-4509-e692-8549d66f4708"
      },
      "source": [
        "model = make_pipeline(PolynomialFeatures(21),\n",
        "                      StandardScaler(with_mean=False),\n",
        "                      Ridge(alpha=0.001) ) #try 100, 1, 0.01, 0.001\n",
        "model.fit(x,y)\n",
        "\n",
        "plt.scatter(x, y)\n",
        "plt.plot(xfit, np.sin(xfit), c='orange')\n",
        "plt.plot(xfit, model.predict(xfit))\n",
        "\n",
        "plt.xlim(0, 10)\n",
        "plt.ylim(-1.5, 1.5);\n",
        "plt.title('Lasso regression')\n",
        "print('MSE on X: ', mean_squared_error( model.predict(x), y ) )\n",
        "print(\"Coefficient norm:\", np.linalg.norm(model['ridge'].coef_))"
      ],
      "execution_count": null,
      "outputs": [
        {
          "output_type": "stream",
          "name": "stdout",
          "text": [
            "MSE on X:  0.042471574241563885\n",
            "Coefficient norm: 31.140157837770804\n"
          ]
        },
        {
          "output_type": "display_data",
          "data": {
            "text/plain": [
              "<Figure size 432x288 with 1 Axes>"
            ],
            "image/png": "[encoded data removed]"
          },
          "metadata": {}
        }
      ]
    },
    {
      "cell_type": "markdown",
      "metadata": {
        "deletable": true,
        "editable": true,
        "id": "0pVYQ_nq5bL_"
      },
      "source": [
        "The $\\alpha$ parameter is essentially a knob controlling the complexity of the resulting model.\n",
        "In the limit $\\alpha \\to 0$, we recover the standard linear regression result; in the limit $\\alpha \\to \\infty$, all model responses will be suppressed.\n",
        "One advantage of ridge regression in particular is that it can be computed very efficiently—at hardly more computational cost than the original linear regression model."
      ]
    },
    {
      "cell_type": "markdown",
      "metadata": {
        "deletable": true,
        "editable": true,
        "id": "cihaz1bh5bL_"
      },
      "source": [
        "### Lasso regression ($L_1$ regularization)\n",
        "\n",
        "Another very common type of regularization is known as lasso, and involves penalizing the sum of absolute values (1-norms) of regression coefficients:\n",
        "$$\n",
        "P = \\alpha\\sum_{j=1}^p |\\beta_j|\n",
        "$$\n",
        "Though this is conceptually very similar to ridge regression, the results can differ surprisingly: for example, due to geometric reasons lasso regression tends to favor *sparse models* where possible: that is, it preferentially sets model coefficients to exactly zero.\n",
        "\n",
        "We can see this behavior in duplicating the ridge regression figure, but using L1-normalized coefficients:"
      ]
    },
    {
      "cell_type": "code",
      "metadata": {
        "deletable": true,
        "editable": true,
        "id": "akFNcoUd5bL_",
        "colab": {
          "base_uri": "https://localhost:8080/",
          "height": 373
        },
        "outputId": "3ca42ee5-6cd1-44a0-eae6-455ccf75e729"
      },
      "source": [
        "from sklearn.linear_model import Lasso\n",
        "model = make_pipeline(PolynomialFeatures(21),\n",
        "                      StandardScaler(with_mean=False),\n",
        "                      Lasso(alpha=.0001, max_iter=10000) ) #try lambda = 0.1, 0.01, 0.001, 0.0001\n",
        "model.fit(x, y)\n",
        "\n",
        "plt.scatter(x, y)\n",
        "plt.plot(xfit, np.sin(xfit), c='orange')\n",
        "plt.plot(xfit, model.predict(xfit))\n",
        "\n",
        "plt.xlim(0, 10)\n",
        "plt.ylim(-1.5, 1.5);\n",
        "plt.title('Lasso regression')\n",
        "print('MSE on X: ', mean_squared_error( model.predict(x), y ) )\n",
        "print(\"Coefficient norm:\", np.linalg.norm(model['lasso'].coef_))"
      ],
      "execution_count": null,
      "outputs": [
        {
          "output_type": "stream",
          "name": "stderr",
          "text": [
            "/usr/local/lib/python3.7/dist-packages/sklearn/linear_model/_coordinate_descent.py:648: ConvergenceWarning: Objective did not converge. You might want to increase the number of iterations, check the scale of the features or consider increasing regularisation. Duality gap: 1.113e+00, tolerance: 2.191e-03\n",
            "  coef_, l1_reg, l2_reg, X, y, max_iter, tol, rng, random, positive\n"
          ]
        },
        {
          "output_type": "stream",
          "name": "stdout",
          "text": [
            "MSE on X:  0.04978552301797378\n",
            "Coefficient norm: 34.59668455566477\n"
          ]
        },
        {
          "output_type": "display_data",
          "data": {
            "text/plain": [
              "<Figure size 432x288 with 1 Axes>"
            ],
            "image/png": "[encoded data removed]"
          },
          "metadata": {}
        }
      ]
    },
    {
      "cell_type": "markdown",
      "metadata": {
        "deletable": true,
        "editable": true,
        "id": "xF0Zi9I45bMC"
      },
      "source": [
        "With the lasso regression penalty, the majority of the coefficients are exactly zero, with the functional behavior being modeled by a small subset of the available basis functions.\n",
        "As with ridge regularization, the $\\alpha$ parameter tunes the strength of the penalty, and should be determined via, for example, cross-validation.\n",
        "\n",
        "We will discuss cross-validation in more detail in future weeks. For now, let's just use a simple loop to investigate the effect of changing the regularization strength."
      ]
    },
    {
      "cell_type": "code",
      "metadata": {
        "id": "jzf_lsYXBYjP",
        "colab": {
          "base_uri": "https://localhost:8080/",
          "height": 293
        },
        "outputId": "b32d49bf-4620-49a9-f077-2b6fbb090c06"
      },
      "source": [
        "# Do not do this in your project\n",
        "lambda_vals = np.array([ 1e-5,1e-4,1e-3, 1e-2, 1, 10])\n",
        "norms = []\n",
        "train_mses = []\n",
        "\n",
        "for a in lambda_vals:\n",
        "  model = make_pipeline(PolynomialFeatures(21), \\\n",
        "                        StandardScaler(with_mean=False),\\\n",
        "                        Ridge(alpha=a, max_iter=10000))\n",
        "  model.fit(x, y)\n",
        "  norms.append(np.linalg.norm(model[-1].coef_))\n",
        "  train_mses.append(mean_squared_error(model.predict(x),y))\n",
        "\n",
        "fig, ax1 = plt.subplots()\n",
        "\n",
        "ax1.set_xlabel('Alpha (Lambda)', color='b')\n",
        "ax1.set_ylabel('coeff norms', color='r')\n",
        "ax1.set_xscale('log')\n",
        "ax1.plot(lambda_vals, np.array(norms), color='r')\n",
        "ax1.tick_params(axis='y', labelcolor='r')\n",
        "\n",
        "ax2 = ax1.twinx()  # instantiate a second axes that shares the same x-axis\n",
        "\n",
        "ax2.set_ylabel('MSE', color='b')  #  already handled the x-label\n",
        "ax2.plot(lambda_vals, np.array(train_mses), color='b')\n",
        "ax2.tick_params(axis='y', labelcolor='b')\n",
        "\n",
        "fig.tight_layout()\n",
        "plt.show()"
      ],
      "execution_count": null,
      "outputs": [
        {
          "output_type": "display_data",
          "data": {
            "text/plain": [
              "<Figure size 432x288 with 2 Axes>"
            ],
            "image/png": "[encoded data removed]"
          },
          "metadata": {}
        }
      ]
    }
  ]
}